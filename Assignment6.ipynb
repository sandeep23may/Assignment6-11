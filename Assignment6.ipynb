{
 "cells": [
  {
   "cell_type": "code",
   "execution_count": 2,
   "metadata": {},
   "outputs": [
    {
     "name": "stdout",
     "output_type": "stream",
     "text": [
      "[[25  5  1]\n",
      " [49  7  1]\n",
      " [81  9  1]]\n"
     ]
    }
   ],
   "source": [
    "\"\"\"\n",
    "1: Write a function so that the columns of the output matrix are powers of the input vector. The order of the powers is determined by the increasing boolean argument. Specifically, when increasing is False, the i-th output column is the input vector raised element-wise to the power of N - i - 1.\n",
    "\n",
    "HINT: Such a matrix with a geometric progression in each row is named for Alexandre- Theophile Vandermonde.\n",
    "\"\"\"\n",
    "\n",
    "import numpy  as np\n",
    "\n",
    "list1 = [5,7,9]\n",
    "def myvander(seq,increasing=\"False\"):\n",
    "    if increasing == \"False\":\n",
    "        arr = np.empty((0,seq.size),int)\n",
    "        for i in range(seq.size):\n",
    "            #print (np.power(seq,seq.size-i-1))\n",
    "            arr=np.concatenate((arr,np.power(seq,seq.size-i-1).reshape(1,seq.size)),axis=0)\n",
    "        return arr.T\n",
    "result_arr = myvander(np.array(list1),\"False\")\n",
    "print (result_arr)"
   ]
  },
  {
   "cell_type": "code",
   "execution_count": 6,
   "metadata": {},
   "outputs": [
    {
     "name": "stdout",
     "output_type": "stream",
     "text": [
      "Moving average [3 5 7] of y0 is 5.0\n",
      "Moving average [5 7 2] of y1 is 4.666666666666667\n",
      "Moving average [7 2 8] of y2 is 5.666666666666667\n",
      "Moving average [ 2  8 10] of y3 is 6.666666666666667\n",
      "Moving average [ 8 10 11] of y4 is 9.666666666666666\n",
      "Moving average [10 11 65] of y5 is 28.666666666666668\n",
      "Moving average [11 65 72] of y6 is 49.333333333333336\n",
      "Moving average [65 72 81] of y7 is 72.66666666666667\n",
      "Moving average [72 81 99] of y8 is 84.0\n",
      "Moving average [ 81  99 100] of y9 is 93.33333333333333\n",
      "Moving average [ 99 100 150] of y10 is 116.33333333333333\n"
     ]
    }
   ],
   "source": [
    "\"\"\" Problem Statement 2: Given a sequence of n values x1, x2, ..., xn and a window size k>0, the k-th moving average of the \n",
    "given sequence is defined as follows: The moving average sequence has n-k+1 elements as shown below. The moving averages with k=4 of a ten-value sequence (n=10) is shown below i 1 2 3 4 5 6 7 8 9 10 ===== == == == == == == == == == == Input 10 20 30 40 50 60 70 80 90 100 y1 25 = (10+20+30+40)/4 y2 35 = (20+30+40+50)/4 y3 45 = (30+40+50+60)/4 y4 55 = (40+50+60+70)/4 y5 65 = (50+60+70+80)/4 y6 75 = (60+70+80+90)/4 y7 85 = (70+80+90+100)/4 Thus, the moving average sequence has n-k+1=10-4+1=7 values.\n",
    "\n",
    "Question: Write a function to find moving average in an array over a window: Test it over [3, 5, 7, 2, 8, 10, 11, 65, 72, 81, 99, 100, 150] and window of 3. \"\"\"\n",
    "\n",
    "seq = [3, 5, 7, 2, 8, 10, 11, 65, 72, 81, 99, 100, 150]\n",
    "k = 3\n",
    "\n",
    "def movingAverage(seq,window):\n",
    "    np.average\n",
    "    for i in range(0,(len(seq)-k+1)):\n",
    "        seq_arr = np.array(seq)\n",
    "        print (\"Moving average {} of y{} is {}\".format(seq_arr[i:i+k],i,np.average(seq_arr[i:i+k])))\n",
    "    \n",
    "movingAverage(seq,k)"
   ]
  },
  {
   "cell_type": "code",
   "execution_count": null,
   "metadata": {
    "collapsed": true
   },
   "outputs": [],
   "source": [
    "\"\"\"\n",
    "Assignment 6 completed\n",
    "\"\"\""
   ]
  }
 ],
 "metadata": {
  "kernelspec": {
   "display_name": "Python 3",
   "language": "python",
   "name": "python3"
  },
  "language_info": {
   "codemirror_mode": {
    "name": "ipython",
    "version": 3
   },
   "file_extension": ".py",
   "mimetype": "text/x-python",
   "name": "python",
   "nbconvert_exporter": "python",
   "pygments_lexer": "ipython3",
   "version": "3.6.3"
  }
 },
 "nbformat": 4,
 "nbformat_minor": 2
}
