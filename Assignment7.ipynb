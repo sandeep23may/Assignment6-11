{
 "cells": [
  {
   "cell_type": "code",
   "execution_count": 3,
   "metadata": {},
   "outputs": [
    {
     "name": "stdout",
     "output_type": "stream",
     "text": [
      "   X  Y\n",
      "0  7  1\n",
      "1  2  2\n",
      "2  0  0\n",
      "3  3  1\n",
      "4  4  2\n",
      "5  2  3\n",
      "6  5  4\n",
      "7  0  0\n",
      "8  3  1\n",
      "9  4  2\n"
     ]
    }
   ],
   "source": [
    "#Problem Statement 1:\n",
    "\"\"\"\n",
    "1) How-to-count-distance-to-the-previous-zero\n",
    "For each value, count the difference of the distance from the previous zero (or the start of\n",
    "the Series, whichever is closer) and if there are no previous zeros, print the position\n",
    "Consider a DataFrame df where there is an integer column {'X'[7, 2, 0, 3, 4, 2, 5, 0, 3, 4]}\n",
    "The values should therefore be [1, 2, 0, 1, 2, 3, 4, 0, 1, 2]. Make this a new column 'Y'.\n",
    "import pandas as pd\n",
    "df = pd.DataFrame({'X': [7, 2, 0, 3, 4, 2, 5, 0, 3, 4]})\n",
    "\"\"\"\n",
    "\n",
    "import pandas as pd\n",
    "df = pd.DataFrame({'X': [7, 2, 0, 3, 4, 2, 5, 0, 3, 4]}) \n",
    "def distZero(list1):\n",
    "    list2 = []\n",
    "    pos = 0\n",
    "    for i,n in enumerate(list1):\n",
    "    \n",
    "        if (n==0):\n",
    "            pos=0\n",
    "        else:\n",
    "            pos+=1\n",
    "        list2.append(pos)\n",
    "    return list2\n",
    "df[\"Y\"]=distZero(df[\"X\"])\n",
    "print (df)\n"
   ]
  },
  {
   "cell_type": "code",
   "execution_count": 37,
   "metadata": {},
   "outputs": [
    {
     "name": "stdout",
     "output_type": "stream",
     "text": [
      "sum of the values in series for every Wednesday is  2505\n",
      "Avg of each calender month \n",
      "1     42.935484\n",
      "2     33.607143\n",
      "3     37.419355\n",
      "4     51.466667\n",
      "5     52.903226\n",
      "6     52.533333\n",
      "7     53.096774\n",
      "8     49.580645\n",
      "9     47.800000\n",
      "10    32.129032\n",
      "11    46.333333\n",
      "12    48.032258\n",
      "dtype: float64\n",
      "2015-01-31    42.935484\n",
      "2015-02-28    33.607143\n",
      "2015-03-31    37.419355\n",
      "2015-04-30    51.466667\n",
      "2015-05-31    52.903226\n",
      "2015-06-30    52.533333\n",
      "2015-07-31    53.096774\n",
      "2015-08-31    49.580645\n",
      "2015-09-30    47.800000\n",
      "2015-10-31    32.129032\n",
      "2015-11-30    46.333333\n",
      "2015-12-31    48.032258\n",
      "Freq: M, dtype: float64\n"
     ]
    },
    {
     "data": {
      "text/plain": [
       "2015-01-01    99\n",
       "2015-05-01    98\n",
       "2015-09-01    99\n",
       "Freq: 4MS, dtype: int32"
      ]
     },
     "execution_count": 37,
     "metadata": {},
     "output_type": "execute_result"
    }
   ],
   "source": [
    "\"\"\"\n",
    "2) Create a DatetimeIndex that contains each business day of 2015 and use it to index a\n",
    "Series of random numbers.\n",
    "3) Find the sum of the values in s for every Wednesday\n",
    "4) Average For each calendar month\n",
    "\n",
    "\n",
    "\"\"\"\n",
    "import numpy as np\n",
    "date_range = pd.date_range(start='2015-01-01',end='2015-12-31',freq='d')\n",
    "\n",
    "df_series= pd.Series(np.random.randint(0,100,365),index=date_range)\n",
    "\n",
    "#Find the sum of the values in s for every Wednesday\n",
    "print (\"sum of the values in series for every Wednesday is \",df_series.loc[df_series.index.day_name()=='Wednesday'].sum())\n",
    "\n",
    "#Average For each calendar month\n",
    "df_series_grp_ny_month = df_series.groupby(by=[df_series.index.month])\n",
    "\n",
    "print (\"Avg of each calender month \")\n",
    "print(df_series_grp_ny_month.mean())\n",
    "print (df_series.resample('M').mean())\n",
    "\n"
   ]
  },
  {
   "cell_type": "code",
   "execution_count": 106,
   "metadata": {},
   "outputs": [
    {
     "name": "stdout",
     "output_type": "stream",
     "text": [
      "Max no of in group  2015-01-01 00:00:00 is 99 \n",
      "Here are the dates\n",
      "2015-04-29    99\n",
      "Freq: D, dtype: int32\n",
      "Max no of in group  2015-05-01 00:00:00 is 98 \n",
      "Here are the dates\n",
      "2015-05-12    98\n",
      "2015-07-19    98\n",
      "2015-08-03    98\n",
      "dtype: int32\n",
      "Max no of in group  2015-09-01 00:00:00 is 99 \n",
      "Here are the dates\n",
      "2015-09-26    99\n",
      "2015-12-18    99\n",
      "Freq: 83D, dtype: int32\n"
     ]
    },
    {
     "data": {
      "text/plain": [
       "'\\nProblem 1 Done\\n'"
      ]
     },
     "execution_count": 106,
     "metadata": {},
     "output_type": "execute_result"
    }
   ],
   "source": [
    "\"\"\"5) For each group of four consecutive calendar months in s, find the date on which the highest\n",
    "value occurred.\"\"\"\n",
    "\n",
    "df_group_four = df_series.resample('4MS')\n",
    "#print (df_group_four.groups)\n",
    "for g in df_group_four.groups:\n",
    "    #print (df_group_four.get_group(g))\n",
    "    #print (df_group_four.get_group(g))\n",
    "    \n",
    "    print (\"Max no of in group  {} is {} \".format(g,df_group_four.get_group(g).max()))\n",
    "    print (\"Here are the dates\")\n",
    "    print (df_group_four.get_group(g).loc[df_group_four.get_group(g)==df_group_four.get_group(g).max()])\n",
    "\n",
    "\"\"\"\n",
    "Problem 1 Done\n",
    "\"\"\""
   ]
  },
  {
   "cell_type": "code",
   "execution_count": 153,
   "metadata": {},
   "outputs": [
    {
     "data": {
      "text/plain": [
       "dtype('<M8[ns]')"
      ]
     },
     "execution_count": 153,
     "metadata": {},
     "output_type": "execute_result"
    }
   ],
   "source": []
  },
  {
   "cell_type": "code",
   "execution_count": 107,
   "metadata": {
    "collapsed": true
   },
   "outputs": [],
   "source": [
    "\"\"\"\n",
    "\n",
    "Problem Statement 2:\n",
    "Read the dataset from the below link\n",
    "https://raw.githubusercontent.com/guipsamora/pandas_exercises/master/06_Stats/US_Baby_Names/US_Baby_Nam\n",
    "es_right.csv\n",
    "Questions:\n",
    "1) Delete unnamed columns\n",
    "2) Show the distribution of male and female\n",
    "\n",
    "3) Show the top 5 most preferred names\n",
    "4) What is the median name occurrence in the dataset\n",
    "5) Distribution of male and female born count by states\n",
    "\n",
    "\"\"\"\n",
    "\n",
    "import pandas as pd\n",
    "\n",
    "path=r\"https://raw.githubusercontent.com/guipsamora/pandas_exercises/master/06_Stats/US_Baby_Names/US_Baby_Names_right.csv\"\n",
    "df =pd.read_csv(path)"
   ]
  },
  {
   "cell_type": "code",
   "execution_count": 113,
   "metadata": {},
   "outputs": [
    {
     "name": "stdout",
     "output_type": "stream",
     "text": [
      "   Unnamed: 0     Id     Name  Year Gender State  Count\n",
      "0       11349  11350     Emma  2004      F    AK     62\n",
      "1       11350  11351  Madison  2004      F    AK     48\n",
      "2       11351  11352   Hannah  2004      F    AK     46\n",
      "3       11352  11353    Grace  2004      F    AK     44\n",
      "4       11353  11354    Emily  2004      F    AK     41\n",
      "\n",
      "\n",
      "After deleteing the un named columns\n",
      "      Id     Name  Year Gender State  Count\n",
      "0  11350     Emma  2004      F    AK     62\n",
      "1  11351  Madison  2004      F    AK     48\n",
      "2  11352   Hannah  2004      F    AK     46\n",
      "3  11353    Grace  2004      F    AK     44\n",
      "4  11354    Emily  2004      F    AK     41\n"
     ]
    }
   ],
   "source": [
    "print (df.head())\n",
    "\n",
    "###1) Delete unnamed columns\n",
    "df_new = df.drop(df.columns[df.columns.str.contains('unnamed',case = False)],axis=1)\n",
    "\n",
    "print()\n",
    "print ()\n",
    "print (\"After deleteing the un named columns\")\n",
    "print (df_new.head(5))"
   ]
  },
  {
   "cell_type": "code",
   "execution_count": 115,
   "metadata": {},
   "outputs": [
    {
     "data": {
      "text/html": [
       "<div>\n",
       "<style scoped>\n",
       "    .dataframe tbody tr th:only-of-type {\n",
       "        vertical-align: middle;\n",
       "    }\n",
       "\n",
       "    .dataframe tbody tr th {\n",
       "        vertical-align: top;\n",
       "    }\n",
       "\n",
       "    .dataframe thead tr th {\n",
       "        text-align: left;\n",
       "    }\n",
       "\n",
       "    .dataframe thead tr:last-of-type th {\n",
       "        text-align: right;\n",
       "    }\n",
       "</style>\n",
       "<table border=\"1\" class=\"dataframe\">\n",
       "  <thead>\n",
       "    <tr>\n",
       "      <th></th>\n",
       "      <th colspan=\"8\" halign=\"left\">Id</th>\n",
       "      <th colspan=\"5\" halign=\"left\">Year</th>\n",
       "      <th colspan=\"8\" halign=\"left\">Count</th>\n",
       "    </tr>\n",
       "    <tr>\n",
       "      <th></th>\n",
       "      <th>count</th>\n",
       "      <th>mean</th>\n",
       "      <th>std</th>\n",
       "      <th>min</th>\n",
       "      <th>25%</th>\n",
       "      <th>50%</th>\n",
       "      <th>75%</th>\n",
       "      <th>max</th>\n",
       "      <th>count</th>\n",
       "      <th>mean</th>\n",
       "      <th>...</th>\n",
       "      <th>75%</th>\n",
       "      <th>max</th>\n",
       "      <th>count</th>\n",
       "      <th>mean</th>\n",
       "      <th>std</th>\n",
       "      <th>min</th>\n",
       "      <th>25%</th>\n",
       "      <th>50%</th>\n",
       "      <th>75%</th>\n",
       "      <th>max</th>\n",
       "    </tr>\n",
       "    <tr>\n",
       "      <th>Gender</th>\n",
       "      <th></th>\n",
       "      <th></th>\n",
       "      <th></th>\n",
       "      <th></th>\n",
       "      <th></th>\n",
       "      <th></th>\n",
       "      <th></th>\n",
       "      <th></th>\n",
       "      <th></th>\n",
       "      <th></th>\n",
       "      <th></th>\n",
       "      <th></th>\n",
       "      <th></th>\n",
       "      <th></th>\n",
       "      <th></th>\n",
       "      <th></th>\n",
       "      <th></th>\n",
       "      <th></th>\n",
       "      <th></th>\n",
       "      <th></th>\n",
       "      <th></th>\n",
       "    </tr>\n",
       "  </thead>\n",
       "  <tbody>\n",
       "    <tr>\n",
       "      <th>F</th>\n",
       "      <td>558846.0</td>\n",
       "      <td>2.793178e+06</td>\n",
       "      <td>1.658818e+06</td>\n",
       "      <td>11350.0</td>\n",
       "      <td>1242540.25</td>\n",
       "      <td>2807898.5</td>\n",
       "      <td>4333051.75</td>\n",
       "      <td>5634124.0</td>\n",
       "      <td>558846.0</td>\n",
       "      <td>2009.026258</td>\n",
       "      <td>...</td>\n",
       "      <td>2012.0</td>\n",
       "      <td>2014.0</td>\n",
       "      <td>558846.0</td>\n",
       "      <td>29.310925</td>\n",
       "      <td>75.962992</td>\n",
       "      <td>5.0</td>\n",
       "      <td>6.0</td>\n",
       "      <td>10.0</td>\n",
       "      <td>23.0</td>\n",
       "      <td>3634.0</td>\n",
       "    </tr>\n",
       "    <tr>\n",
       "      <th>M</th>\n",
       "      <td>457549.0</td>\n",
       "      <td>2.877176e+06</td>\n",
       "      <td>1.643518e+06</td>\n",
       "      <td>24077.0</td>\n",
       "      <td>1325498.00</td>\n",
       "      <td>2867541.0</td>\n",
       "      <td>4241792.00</td>\n",
       "      <td>5647426.0</td>\n",
       "      <td>457549.0</td>\n",
       "      <td>2009.086085</td>\n",
       "      <td>...</td>\n",
       "      <td>2012.0</td>\n",
       "      <td>2014.0</td>\n",
       "      <td>457549.0</td>\n",
       "      <td>41.615650</td>\n",
       "      <td>118.074308</td>\n",
       "      <td>5.0</td>\n",
       "      <td>7.0</td>\n",
       "      <td>12.0</td>\n",
       "      <td>29.0</td>\n",
       "      <td>4167.0</td>\n",
       "    </tr>\n",
       "  </tbody>\n",
       "</table>\n",
       "<p>2 rows × 24 columns</p>\n",
       "</div>"
      ],
      "text/plain": [
       "              Id                                                              \\\n",
       "           count          mean           std      min         25%        50%   \n",
       "Gender                                                                         \n",
       "F       558846.0  2.793178e+06  1.658818e+06  11350.0  1242540.25  2807898.5   \n",
       "M       457549.0  2.877176e+06  1.643518e+06  24077.0  1325498.00  2867541.0   \n",
       "\n",
       "                                   Year               ...                  \\\n",
       "               75%        max     count         mean  ...     75%     max   \n",
       "Gender                                                ...                   \n",
       "F       4333051.75  5634124.0  558846.0  2009.026258  ...  2012.0  2014.0   \n",
       "M       4241792.00  5647426.0  457549.0  2009.086085  ...  2012.0  2014.0   \n",
       "\n",
       "           Count                                                       \n",
       "           count       mean         std  min  25%   50%   75%     max  \n",
       "Gender                                                                 \n",
       "F       558846.0  29.310925   75.962992  5.0  6.0  10.0  23.0  3634.0  \n",
       "M       457549.0  41.615650  118.074308  5.0  7.0  12.0  29.0  4167.0  \n",
       "\n",
       "[2 rows x 24 columns]"
      ]
     },
     "execution_count": 115,
     "metadata": {},
     "output_type": "execute_result"
    }
   ],
   "source": [
    "### 2) Show the distribution of male and female\n",
    "\n",
    "df_grouped = df_new.groupby(\"Gender\")\n",
    "df_grouped.describe()"
   ]
  },
  {
   "cell_type": "code",
   "execution_count": 117,
   "metadata": {},
   "outputs": [
    {
     "name": "stdout",
     "output_type": "stream",
     "text": [
      "Riley     1112\n",
      "Avery     1080\n",
      "Jordan    1073\n",
      "Peyton    1064\n",
      "Hayden    1049\n",
      "Name: Name, dtype: int64\n"
     ]
    }
   ],
   "source": [
    "###3) Show the top 5 most preferred names\n",
    "\n",
    "df_name_count=df_new['Name'].value_counts()\n",
    "print (df_name_count.head(5))"
   ]
  },
  {
   "cell_type": "code",
   "execution_count": 141,
   "metadata": {},
   "outputs": [
    {
     "data": {
      "text/plain": [
       "8.0"
      ]
     },
     "execution_count": 141,
     "metadata": {},
     "output_type": "execute_result"
    }
   ],
   "source": [
    "###4) What is the median name occurrence in the dataset\n",
    "df_name_count.median()"
   ]
  },
  {
   "cell_type": "code",
   "execution_count": 147,
   "metadata": {},
   "outputs": [
    {
     "data": {
      "text/plain": [
       "State  Gender\n",
       "AK     F          2404\n",
       "       M          2587\n",
       "AL     F          9878\n",
       "       M          8419\n",
       "AR     F          7171\n",
       "       M          6475\n",
       "AZ     F         14518\n",
       "       M         10820\n",
       "CA     F         45144\n",
       "       M         31637\n",
       "CO     F         11424\n",
       "       M          9183\n",
       "CT     F          6575\n",
       "       M          5733\n",
       "DC     F          3053\n",
       "       M          3000\n",
       "DE     F          2549\n",
       "       M          2440\n",
       "FL     F         25781\n",
       "       M         20070\n",
       "GA     F         19385\n",
       "       M         15454\n",
       "HI     F          3255\n",
       "       M          3546\n",
       "IA     F          7131\n",
       "       M          6307\n",
       "ID     F          4918\n",
       "       M          4833\n",
       "IL     F         21268\n",
       "       M         16828\n",
       "                 ...  \n",
       "OK     F          9519\n",
       "       M          8138\n",
       "OR     F          8604\n",
       "       M          7333\n",
       "PA     F         17480\n",
       "       M         14171\n",
       "RI     F          2558\n",
       "       M          2468\n",
       "SC     F          9465\n",
       "       M          8195\n",
       "SD     F          2838\n",
       "       M          2908\n",
       "TN     F         13063\n",
       "       M         10588\n",
       "TX     F         39760\n",
       "       M         27791\n",
       "UT     F          9515\n",
       "       M          8233\n",
       "VA     F         14759\n",
       "       M         11997\n",
       "VT     F          1398\n",
       "       M          1618\n",
       "WA     F         13329\n",
       "       M         11049\n",
       "WI     F         10549\n",
       "       M          8940\n",
       "WV     F          4305\n",
       "       M          3733\n",
       "WY     F          1456\n",
       "       M          1904\n",
       "Name: Id, Length: 102, dtype: int64"
      ]
     },
     "execution_count": 147,
     "metadata": {},
     "output_type": "execute_result"
    }
   ],
   "source": [
    "#5) Distribution of male and female born count by states\n",
    "df_group_by_sex= df_new.groupby(by = [\"State\",\"Gender\"])\n",
    "df_group_by_sex.count()['Id']"
   ]
  },
  {
   "cell_type": "code",
   "execution_count": null,
   "metadata": {
    "collapsed": true
   },
   "outputs": [],
   "source": [
    "\"\"\"\n",
    "Assignement 7 complete\n",
    "\"\"\""
   ]
  }
 ],
 "metadata": {
  "kernelspec": {
   "display_name": "Python 3",
   "language": "python",
   "name": "python3"
  },
  "language_info": {
   "codemirror_mode": {
    "name": "ipython",
    "version": 3
   },
   "file_extension": ".py",
   "mimetype": "text/x-python",
   "name": "python",
   "nbconvert_exporter": "python",
   "pygments_lexer": "ipython3",
   "version": "3.6.3"
  }
 },
 "nbformat": 4,
 "nbformat_minor": 2
}
